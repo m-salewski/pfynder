{
 "cells": [
  {
   "cell_type": "code",
   "execution_count": 6,
   "metadata": {
    "hide_input": true
   },
   "outputs": [
    {
     "name": "stdout",
     "output_type": "stream",
     "text": [
      "The autoreload extension is already loaded. To reload it, use:\n",
      "  %reload_ext autoreload\n"
     ]
    }
   ],
   "source": [
    "# This will reload imports before executing code, allowing you to easily change contents of custom scripts\n",
    "%load_ext autoreload\n",
    "%autoreload 2"
   ]
  },
  {
   "cell_type": "markdown",
   "metadata": {},
   "source": [
    "# `pfynder` demo\n",
    "\n",
    "05.02.2021"
   ]
  },
  {
   "cell_type": "markdown",
   "metadata": {},
   "source": [
    "**`pfynder`**\n",
    "\n",
    "0. inputs: module name and function name to search for\n",
    "1. find local of current python; effectively want `/usr/local/lib/pythonX.X/` where \"pythonX.X\" is the current version of the notebook\n",
    "2. find the correct dir with the package's name, _ie_ \"sklearn\"\n",
    "3. search through all `.py`-scripts using grep to find the function name\n",
    "    - **Note** it could be in multiple modules, , filter to get those with \"def\"\n",
    "4. output the results"
   ]
  },
  {
   "cell_type": "code",
   "execution_count": 7,
   "metadata": {},
   "outputs": [],
   "source": [
    "import sys\n",
    "sys.path.append('/home/sandm/Notebooks/pfynder/src/')"
   ]
  },
  {
   "cell_type": "code",
   "execution_count": 8,
   "metadata": {},
   "outputs": [],
   "source": [
    "from pfynder import pfynd"
   ]
  },
  {
   "cell_type": "markdown",
   "metadata": {},
   "source": [
    "Usage:\n",
    "```python\n",
    ">>> pfynd(\"packagename\", \"functionname\")\n",
    "```"
   ]
  },
  {
   "cell_type": "code",
   "execution_count": 9,
   "metadata": {},
   "outputs": [
    {
     "name": "stdout",
     "output_type": "stream",
     "text": [
      "matplotlib\n",
      "\taxes._base._AxesBase:\n",
      "\t\tget_xlim\n",
      "\t\tset_xlim\n",
      "\tpyplot:\n",
      "\t\txlim\n",
      "\ttests.test_skew.SkewXAxes:\n",
      "\t\tlower_xlim\n",
      "\t\tupper_xlim\n",
      "\tprojections.geo.LambertAxes:\n",
      "\t\tset_xlim\n"
     ]
    }
   ],
   "source": [
    "pfynd(\"matplotlib\",\"xlim\")"
   ]
  }
 ],
 "metadata": {
  "kernelspec": {
   "display_name": "Python 3",
   "language": "python",
   "name": "python3"
  },
  "language_info": {
   "codemirror_mode": {
    "name": "ipython",
    "version": 3
   },
   "file_extension": ".py",
   "mimetype": "text/x-python",
   "name": "python",
   "nbconvert_exporter": "python",
   "pygments_lexer": "ipython3",
   "version": "3.6.9"
  },
  "toc": {
   "nav_menu": {},
   "number_sections": true,
   "sideBar": true,
   "skip_h1_title": false,
   "title_cell": "Table of Contents",
   "title_sidebar": "Contents",
   "toc_cell": false,
   "toc_position": {},
   "toc_section_display": true,
   "toc_window_display": false
  }
 },
 "nbformat": 4,
 "nbformat_minor": 2
}
