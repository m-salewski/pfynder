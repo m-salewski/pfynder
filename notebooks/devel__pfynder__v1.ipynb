{
 "cells": [
  {
   "cell_type": "code",
   "execution_count": 33,
   "metadata": {},
   "outputs": [
    {
     "data": {
      "text/html": [
       "<style>.container { width:100% !important; }</style>"
      ],
      "text/plain": [
       "<IPython.core.display.HTML object>"
      ]
     },
     "metadata": {},
     "output_type": "display_data"
    }
   ],
   "source": [
    "from IPython.core.display import display, HTML\n",
    "display(HTML(\"<style>.container { width:100% !important; }</style>\"))"
   ]
  },
  {
   "cell_type": "markdown",
   "metadata": {},
   "source": [
    "# `pfynder` devel: v1\n",
    "\n",
    "14.03.2021"
   ]
  },
  {
   "cell_type": "markdown",
   "metadata": {},
   "source": [
    "**`pfynder`**\n",
    "\n",
    "0. inputs: module name and function name to search for\n",
    "1. find local of current python; effectively want `/usr/local/lib/pythonX.X/` where \"pythonX.X\" is the current version of the notebook\n",
    "2. find the correct dir with the package's name, _ie_ \"sklearn\"\n",
    "3. search through all `.py`-scripts using grep to find the function name\n",
    "    - **Note** it could be in multiple modules, , filter to get those with \"def\"\n",
    "4. output the results"
   ]
  },
  {
   "cell_type": "code",
   "execution_count": 1,
   "metadata": {},
   "outputs": [
    {
     "name": "stdout",
     "output_type": "stream",
     "text": [
      "/usr/local/lib/python3.6/dist-packages/sklearn\r\n"
     ]
    }
   ],
   "source": [
    "!find /usr/local/lib/ -name \"*sklearn\" -type d | grep -e \"python3.6\""
   ]
  },
  {
   "cell_type": "code",
   "execution_count": 2,
   "metadata": {},
   "outputs": [
    {
     "name": "stdout",
     "output_type": "stream",
     "text": [
      "find: /usr/bin/find /usr/share/man/man1/find.1.gz /usr/share/info/find.info.gz\r\n"
     ]
    }
   ],
   "source": [
    "!whereis find"
   ]
  },
  {
   "cell_type": "markdown",
   "metadata": {},
   "source": [
    "! ls /bin/find"
   ]
  },
  {
   "cell_type": "code",
   "execution_count": 3,
   "metadata": {},
   "outputs": [],
   "source": [
    "import os"
   ]
  },
  {
   "cell_type": "code",
   "execution_count": 4,
   "metadata": {},
   "outputs": [],
   "source": [
    "from subprocess import *"
   ]
  },
  {
   "cell_type": "code",
   "execution_count": 5,
   "metadata": {},
   "outputs": [],
   "source": [
    "import platform"
   ]
  },
  {
   "cell_type": "markdown",
   "metadata": {},
   "source": [
    "Get the current Python version (should be the kernel currently being used)"
   ]
  },
  {
   "cell_type": "code",
   "execution_count": 6,
   "metadata": {},
   "outputs": [
    {
     "name": "stdout",
     "output_type": "stream",
     "text": [
      "3.6.9\n",
      "3.6\n"
     ]
    }
   ],
   "source": [
    "print(platform.python_version())\n",
    "print(\".\".join(platform.python_version_tuple()[:2]))"
   ]
  },
  {
   "cell_type": "code",
   "execution_count": 7,
   "metadata": {},
   "outputs": [
    {
     "name": "stdout",
     "output_type": "stream",
     "text": [
      "['/usr/lib/python36.zip', '/usr/lib/python3.6', '/usr/lib/python3.6/lib-dynload', '', '/home/sandm/.local/lib/python3.6/site-packages', '/usr/local/lib/python3.6/dist-packages', '/usr/lib/python3/dist-packages', '/home/sandm/.local/lib/python3.6/site-packages/IPython/extensions', '/home/sandm/.ipython']\n"
     ]
    }
   ],
   "source": [
    "import sys\n",
    "print(sys.path)"
   ]
  },
  {
   "cell_type": "code",
   "execution_count": 8,
   "metadata": {},
   "outputs": [],
   "source": [
    "def check_path(path):\n",
    "    return (path != \"\") & \\\n",
    "        ((\".zip\" not in path) & \\\n",
    "         (\".ipython\" not in path) & \\\n",
    "         (\"extensions\" not in path)) & \\\n",
    "         ('packages' in path)"
   ]
  },
  {
   "cell_type": "code",
   "execution_count": 9,
   "metadata": {},
   "outputs": [
    {
     "name": "stdout",
     "output_type": "stream",
     "text": [
      "Paths to check\n",
      "\t\tFalse: /usr/lib/python36.zip\n",
      "\t\tFalse: /usr/lib/python3.6\n",
      "\t\tFalse: /usr/lib/python3.6/lib-dynload\n",
      "\t\tFalse: \n",
      "\tTrue : /home/sandm/.local/lib/python3.6/site-packages\n",
      "\tTrue : /usr/local/lib/python3.6/dist-packages\n",
      "\tTrue : /usr/lib/python3/dist-packages\n",
      "\t\tFalse: /home/sandm/.local/lib/python3.6/site-packages/IPython/extensions\n",
      "\t\tFalse: /home/sandm/.ipython\n"
     ]
    }
   ],
   "source": [
    "print(\"Paths to check\")\n",
    "checks = lambda p: f'\\t{str(check_path(p)):5s}:' if check_path(p) else f'\\t\\t{str(check_path(p)):5s}:'\n",
    "for p in sys.path:\n",
    "    print(checks(p),p)"
   ]
  },
  {
   "cell_type": "code",
   "execution_count": 10,
   "metadata": {},
   "outputs": [
    {
     "name": "stdout",
     "output_type": "stream",
     "text": [
      "/usr/local/lib/python3.6/dist-packages/matplotlib\r\n"
     ]
    }
   ],
   "source": [
    "!find /usr/local/lib/python3.6/dist-packages -name matplotlib -type d"
   ]
  },
  {
   "cell_type": "code",
   "execution_count": 262,
   "metadata": {},
   "outputs": [],
   "source": [
    "import pkg_resources\n",
    "\n",
    "packs = [str(l).split(' ')[0] for l in pkg_resources.working_set]"
   ]
  },
  {
   "cell_type": "code",
   "execution_count": 263,
   "metadata": {},
   "outputs": [
    {
     "data": {
      "text/plain": [
       "['widgetsnbextension',\n",
       " 'webencodings',\n",
       " 'wcwidth',\n",
       " 'typing-extensions',\n",
       " 'typed-ast',\n",
       " 'traitlets',\n",
       " 'tornado',\n",
       " 'testpath',\n",
       " 'terminado',\n",
       " 'tadasets',\n",
       " 'six',\n",
       " 'setuptools',\n",
       " 'Send2Trash',\n",
       " 'selenium',\n",
       " 'scikit-tda',\n",
       " 'ripser',\n",
       " 'qtconsole',\n",
       " 'pyzmq',\n",
       " 'python-dateutil',\n",
       " 'pyrsistent',\n",
       " 'Pygments',\n",
       " 'pybind11',\n",
       " 'ptyprocess',\n",
       " 'prompt-toolkit',\n",
       " 'prometheus-client',\n",
       " 'pip',\n",
       " 'pickleshare',\n",
       " 'phat',\n",
       " 'pexpect',\n",
       " 'persim',\n",
       " 'parso',\n",
       " 'pandocfilters',\n",
       " 'notebook',\n",
       " 'nbformat',\n",
       " 'nbconvert',\n",
       " 'mypy',\n",
       " 'mypy-extensions',\n",
       " 'mistune',\n",
       " 'MarkupSafe',\n",
       " 'kmapper',\n",
       " 'jupyterlab',\n",
       " 'jupyterlab-server',\n",
       " 'jupyter',\n",
       " 'jupyter-core',\n",
       " 'jupyter-console',\n",
       " 'jupyter-client',\n",
       " 'jsonschema',\n",
       " 'Jinja2',\n",
       " 'jedi',\n",
       " 'ipywidgets',\n",
       " 'ipython',\n",
       " 'ipython-genutils',\n",
       " 'ipykernel',\n",
       " 'hopcroftkarp',\n",
       " 'entrypoints',\n",
       " 'Deprecated',\n",
       " 'defusedxml',\n",
       " 'decorator',\n",
       " 'Cython',\n",
       " 'cechmate',\n",
       " 'bleach',\n",
       " 'backcall',\n",
       " 'attrs',\n",
       " 'zope.interface',\n",
       " 'zipp',\n",
       " 'xlrd',\n",
       " 'xgboost',\n",
       " 'wrapt',\n",
       " 'Werkzeug',\n",
       " 'w3lib',\n",
       " 'virtualenv',\n",
       " 'virtualenv-clone',\n",
       " 'vincent',\n",
       " 'urlopen',\n",
       " 'urllib3',\n",
       " 'Twisted',\n",
       " 'text-unidecode',\n",
       " 'termcolor',\n",
       " 'tensorflow',\n",
       " 'tensorflow-estimator',\n",
       " 'tensorboard',\n",
       " 'smmap',\n",
       " 'sklearn',\n",
       " 'Shapely',\n",
       " 'service-identity',\n",
       " 'sendgrid',\n",
       " 'seaborn',\n",
       " 'Scrapy',\n",
       " 'scipy',\n",
       " 'scikit-learn',\n",
       " 'Rtree',\n",
       " 'retrying',\n",
       " 'restview',\n",
       " 'requests',\n",
       " 'request',\n",
       " 'readme-renderer',\n",
       " 'queuelib',\n",
       " 'query-string',\n",
       " 'Quandl',\n",
       " 'QtPy',\n",
       " 'pytz',\n",
       " 'python-slugify',\n",
       " 'python-http-client',\n",
       " 'pysqlcipher3',\n",
       " 'PyScaffold',\n",
       " 'pyproj',\n",
       " 'pyparsing',\n",
       " 'pyOpenSSL',\n",
       " 'PyHamcrest',\n",
       " 'pygit',\n",
       " 'pydotplus',\n",
       " 'PyDispatcher',\n",
       " 'pycparser',\n",
       " 'pycodestyle',\n",
       " 'pyasn1-modules',\n",
       " 'public',\n",
       " 'protobuf',\n",
       " 'poyo',\n",
       " 'post',\n",
       " 'plotly',\n",
       " 'pipenv',\n",
       " 'pinance',\n",
       " 'peewee',\n",
       " 'parsel',\n",
       " 'pandas',\n",
       " 'pandas-datareader',\n",
       " 'packaging',\n",
       " 'numpy',\n",
       " 'nltk',\n",
       " 'networkx',\n",
       " 'munch',\n",
       " 'mplleaflet',\n",
       " 'more-itertools',\n",
       " 'matplotlib',\n",
       " 'Markdown',\n",
       " 'lxml',\n",
       " 'lightgbm',\n",
       " 'kiwisolver',\n",
       " 'Keras-Preprocessing',\n",
       " 'Keras-Applications',\n",
       " 'jupyter-nbextensions-configurator',\n",
       " 'jupyter-latex-envs',\n",
       " 'jupyter-highlight-selected-word',\n",
       " 'jupyter-contrib-nbextensions',\n",
       " 'jupyter-contrib-core',\n",
       " 'json5',\n",
       " 'joblib',\n",
       " 'jinja2-time',\n",
       " 'ipympl',\n",
       " 'inflection',\n",
       " 'incremental',\n",
       " 'importlib-metadata',\n",
       " 'idna',\n",
       " 'hyperlink',\n",
       " 'h5py',\n",
       " 'grpcio',\n",
       " 'graphviz',\n",
       " 'gpxpy',\n",
       " 'googlemaps',\n",
       " 'google-pasta',\n",
       " 'GitPython',\n",
       " 'gitdb',\n",
       " 'get',\n",
       " 'geopy',\n",
       " 'geopandas',\n",
       " 'geographiclib',\n",
       " 'gast',\n",
       " 'folium',\n",
       " 'Fiona',\n",
       " 'docutils',\n",
       " 'demjson',\n",
       " 'DateTime',\n",
       " 'cycler',\n",
       " 'cssselect',\n",
       " 'cookiecutter',\n",
       " 'constantly',\n",
       " 'clint',\n",
       " 'cligj',\n",
       " 'click',\n",
       " 'click-plugins',\n",
       " 'cffi',\n",
       " 'certifi',\n",
       " 'cached-property',\n",
       " 'branca',\n",
       " 'bokeh',\n",
       " 'binaryornot',\n",
       " 'autopep8',\n",
       " 'Automat',\n",
       " 'astor',\n",
       " 'arrow',\n",
       " 'args',\n",
       " 'absl-py',\n",
       " 'XlsxWriter',\n",
       " 'xkit',\n",
       " 'xdiagnose',\n",
       " 'wheel',\n",
       " 'wadllib',\n",
       " 'usb-creator',\n",
       " 'unity-scope-zotero',\n",
       " 'unity-scope-yelp',\n",
       " 'unity-scope-virtualbox',\n",
       " 'unity-scope-tomboy',\n",
       " 'unity-scope-texdoc',\n",
       " 'unity-scope-openclipart',\n",
       " 'unity-scope-manpages',\n",
       " 'unity-scope-firefoxbookmarks',\n",
       " 'unity-scope-devhelp',\n",
       " 'unity-scope-colourlovers',\n",
       " 'unity-scope-chromiumbookmarks',\n",
       " 'unity-scope-calculator',\n",
       " 'unattended-upgrades',\n",
       " 'ufw',\n",
       " 'systemd-python',\n",
       " 'system-service',\n",
       " 'simplejson',\n",
       " 'simplegeneric',\n",
       " 'SecretStorage',\n",
       " 'scour',\n",
       " 'requests-unixsocket',\n",
       " 'reportlab',\n",
       " 'remarkable',\n",
       " 'PyYAML',\n",
       " 'pyxdg',\n",
       " 'python-poppler-qt5',\n",
       " 'python-ly',\n",
       " 'python-debian',\n",
       " 'python-apt',\n",
       " 'pyRFC3339',\n",
       " 'PyNaCl',\n",
       " 'pymacaroons',\n",
       " 'PyJWT',\n",
       " 'pygraphviz',\n",
       " 'pygobject',\n",
       " 'pycurl',\n",
       " 'pycups',\n",
       " 'pycrypto',\n",
       " 'pycairo',\n",
       " 'pyasn1',\n",
       " 'plainbox',\n",
       " 'Pillow',\n",
       " 'padme',\n",
       " 'onboard',\n",
       " 'olefile',\n",
       " 'oauthlib',\n",
       " 'oauth',\n",
       " 'netifaces',\n",
       " 'Mako',\n",
       " 'macaroonbakery',\n",
       " 'louis',\n",
       " 'lazr.uri',\n",
       " 'lazr.restfulclient',\n",
       " 'launchpadlib',\n",
       " 'language-selector',\n",
       " 'keyrings.alt',\n",
       " 'keyring',\n",
       " 'httplib2',\n",
       " 'html5lib',\n",
       " 'guacamole',\n",
       " 'feedparser',\n",
       " 'distro-info',\n",
       " 'defer',\n",
       " 'cupshelpers',\n",
       " 'cryptography',\n",
       " 'command-not-found',\n",
       " 'checkbox-support',\n",
       " 'chardet',\n",
       " 'Brlapi',\n",
       " 'blinker',\n",
       " 'beautifulsoup4',\n",
       " 'asn1crypto',\n",
       " 'apturl']"
      ]
     },
     "execution_count": 263,
     "metadata": {},
     "output_type": "execute_result"
    }
   ],
   "source": [
    "packs"
   ]
  },
  {
   "cell_type": "code",
   "execution_count": 46,
   "metadata": {},
   "outputs": [],
   "source": [
    "def special_split(pack_path, astr):\n",
    "    \n",
    "    astr = astr.replace(pack_path+'/','')\n",
    "    \n",
    "    return astr.split(\"/\")[1]"
   ]
  },
  {
   "cell_type": "code",
   "execution_count": 323,
   "metadata": {
    "code_folding": []
   },
   "outputs": [],
   "source": [
    "def pfynd(package_to_check, item_to_find, ismodule=False):\n",
    "    \n",
    "    pyvers = \".\".join(platform.python_version_tuple()[:2])\n",
    "    \n",
    "    paths = [p for p in sys.path if check_path(p)]\n",
    "    \n",
    "    #print(paths)\n",
    "    \n",
    "    not_found = []\n",
    "    \n",
    "    for path in paths:\n",
    "        \n",
    "        cmds = [\"find\", path, \"-type\", \"d\"]\n",
    "        \n",
    "        # TODO: Need a way to ensure that the package name _is_ enforced\n",
    "        # otherwise `grep` will just look for anything with `package_to_check`\n",
    "        # in the STDOUT\n",
    "        \n",
    "        if (package_to_check != \"\") & (package_to_check != \"*\"):\n",
    "            cmds.extend([\"-name\", package_to_check])\n",
    "        \n",
    "        # TODO: Need another way to do this as this way doesn't fully work\n",
    "        if \"*\" in package_to_check: package_to_check=\"*\"\n",
    "            \n",
    "        p1 = Popen(cmds, stdout=PIPE)\n",
    "        p2 = Popen([\"grep\", f\"python{pyvers}\"], stdin=p1.stdout, stdout=PIPE)\n",
    "        p3 = Popen([\"grep\",  \"-v\", \"IPython\"], stdin=p2.stdout, stdout=PIPE)\n",
    "        p1.stdout.close()  # Allow p1 to receive a SIGPIPE if p2 exits.\n",
    "        output = p3.communicate()[0]\n",
    "\n",
    "        dirs_to_search = [s for s in output.decode(\"utf-8\").split('\\n') if s != '']\n",
    "\n",
    "\n",
    "        if dirs_to_search == []:\n",
    "            not_found.append(f\"\\n\\t\\'{package_to_check}\\' not found in {path}\\n\")\n",
    "            continue\n",
    "\n",
    "        #print(dirs_to_search)\n",
    "        \n",
    "        dir_to_search = dirs_to_search[0]\n",
    "\n",
    "        #print(dir_to_search)\n",
    "\n",
    "        if ismodule:\n",
    "            p1 = Popen([\"find\", dir_to_search, \"-type\", \"d\", \"-name\", item_to_find], stdout=PIPE)\n",
    "            #p3 = Popen([\"grep\", \"def \"], stdin=p2.stdout, stdout=PIPE)\n",
    "            #p1.stdout.close()  # Allow p1 to receive a SIGPIPE if p2 exits.\n",
    "            output = p1.communicate()[0]\n",
    "            \n",
    "            if (package_to_check != \"\") & (package_to_check != \"*\"):\n",
    "                locations = [s.split(\"/\"+package_to_check+\"/\")[1] for s in output.decode(\"utf-8\").split('\\n') if s != '']\n",
    "            else:\n",
    "                locations = [s for s in output.decode(\"utf-8\").split('\\n') if s != '']\n",
    "                \n",
    "\n",
    "        else:\n",
    "            p1 = Popen([\"find\", dir_to_search, \"-type\", \"f\", \"-name\", \"*.py\"], stdout=PIPE)\n",
    "            p2 = Popen([\"xargs\", \"grep\", item_to_find], stdin=p1.stdout, stdout=PIPE)\n",
    "            p3 = Popen([\"grep\", \"def \"], stdin=p2.stdout, stdout=PIPE)\n",
    "            p1.stdout.close()  # Allow p1 to receive a SIGPIPE if p2 exits.\n",
    "            p2.stdout.close()  # Allow p1 to receive a SIGPIPE if p2 exits.\n",
    "            output = p3.communicate()[0]\n",
    "            \n",
    "            #print(output)\n",
    "\n",
    "            #locations = [s.split(\"/\"+package_to_check+\"/\")[1] for s in output.decode(\"utf-8\").split('\\n') if s != '']\n",
    "            #print(output)\n",
    "            #print(dir_to_search)\n",
    "            if (package_to_check != \"\") & (package_to_check != \"*\"):\n",
    "                locations = [s.split(\"/\"+package_to_check+\"/\")[1] for s in output.decode(\"utf-8\").split('\\n') if s != '']\n",
    "            else:\n",
    "                locations = [s for s in output.decode(\"utf-8\").split('\\n') if s != '']            \n",
    "\n",
    "            #print(\"locations:\\n\\t\", '\\n\\t'.join(locations))\n",
    "\n",
    "            dc = {}\n",
    "            for l in locations:\n",
    "                \n",
    "                #print(l)\n",
    "                # Check if the search package has been set\n",
    "                #print(\"1. d2c\", dir_to_search, \"l\",l)\n",
    "                if (package_to_check == \"\") | (package_to_check == \"*\"):\n",
    "                    pack_name = l.replace(dir_to_search+'/','').split('/')[0]\n",
    "                    directory = dir_to_search + '/' + pack_name\n",
    "                    #dir_to_search = '/'.join([dir_to_search, package_to_check])                \n",
    "                    #print(dir_to_search)\n",
    "                    l = l.split(\"/\"+pack_name+\"/\")[1]\n",
    "                    \n",
    "                else:\n",
    "                    pack_name = package_to_check\n",
    "                    directory = dir_to_search\n",
    "                    \n",
    "                if pack_name not in packs: continue\n",
    "                if pack_name not in dc.keys():\n",
    "                    dc[pack_name] = {}\n",
    "                    \n",
    "                #print(\"2. d2c\", directory, \"l\",l)\n",
    "                \n",
    "                #check if its a method, and then to which class it belongs\n",
    "                if ('    ' in l) | ('        ' in l) | ('\\t' in l): \n",
    "                    module, function = check_meth(directory, l)    \n",
    "                else:\n",
    "                    module = l.split('.py:')[0]\n",
    "                    function = l.split('def ')[1].split(\"(\")[0]                    \n",
    "                \n",
    "                if module in dc[pack_name].keys():\n",
    "                    dc[pack_name][module].append(function)\n",
    "                else:\n",
    "                    dc[pack_name][module]= [function]\n",
    "\n",
    "            if len(dc.keys()) != 0:\n",
    "                #print(dc)\n",
    "                for p_name in dc.keys():\n",
    "                    print(f\"{p_name}\")\n",
    "\n",
    "                    for k,v in dc[p_name].items():\n",
    "\n",
    "                        print(f\"\\t{k}:\")\n",
    "\n",
    "                        for vv in v:\n",
    "                            print(f\"\\t\\t{vv}\")\n",
    "    \n",
    "    show_fail = False\n",
    "    if show_fail:\n",
    "        print(not_found)\n",
    "        \n",
    "    return None"
   ]
  },
  {
   "cell_type": "code",
   "execution_count": 325,
   "metadata": {
    "scrolled": false
   },
   "outputs": [
    {
     "name": "stdout",
     "output_type": "stream",
     "text": [
      "plotly\n",
      "\tvalidators.histogram2d._z.ZValidator:\n",
      "\t\t__init__\n",
      "\tvalidators.histogram2d._x.XValidator:\n",
      "\t\t__init__\n",
      "\tvalidators.histogram2d._uid.UidValidator:\n",
      "\t\t__init__\n",
      "\tvalidators.histogram2d._ids.IdsValidator:\n",
      "\t\t__init__\n",
      "\tvalidators.histogram2d._y.YValidator:\n",
      "\t\t__init__\n",
      "\tvalidators._histogram2d.Histogram2dValidator:\n",
      "\t\t__init__\n",
      "\tvalidators._histogram.HistogramValidator:\n",
      "\t\t__init__\n",
      "\tvalidators.histogram._x.XValidator:\n",
      "\t\t__init__\n",
      "\tvalidators.histogram._ysrc.YsrcValidator:\n",
      "\t\t__init__\n",
      "\tvalidators.histogram._ybins.YBinsValidator:\n",
      "\t\t__init__\n",
      "\tvalidators.histogram._xaxis.XAxisValidator:\n",
      "\t\t__init__\n",
      "\tvalidators.histogram._xbins.XBinsValidator:\n",
      "\t\t__init__\n",
      "\tvalidators.histogram._yaxis.YAxisValidator:\n",
      "\t\t__init__\n",
      "\tvalidators.histogram._text.TextValidator:\n",
      "\t\t__init__\n",
      "\tvalidators.histogram._uid.UidValidator:\n",
      "\t\t__init__\n",
      "\tvalidators.histogram._ids.IdsValidator:\n",
      "\t\t__init__\n",
      "\tvalidators.histogram._y.YValidator:\n",
      "\t\t__init__\n",
      "\tvalidators.histogram._name.NameValidator:\n",
      "\t\t__init__\n",
      "\tvalidators.histogram._xsrc.XsrcValidator:\n",
      "\t\t__init__\n",
      "\tgraph_objs._histogram2dcontour.Histogram2dContour:\n",
      "\t\thistfunc\n",
      "\t\thistfunc\n",
      "\t\thistnorm\n",
      "\t\thistnorm\n",
      "\tgraph_objs._figurewidget.FigureWidget:\n",
      "\t\tadd_histogram\n",
      "\t\tadd_histogram2d\n",
      "\t\tadd_histogram2dcontour\n",
      "\tgraph_objs._figure.Figure:\n",
      "\t\tadd_histogram\n",
      "\t\tadd_histogram2d\n",
      "\t\tadd_histogram2dcontour\n",
      "\tgraph_objs._histogram2d.Histogram2d:\n",
      "\t\thistfunc\n",
      "\t\thistfunc\n",
      "\t\thistnorm\n",
      "\t\thistnorm\n",
      "\tgraph_objs._histogram.Histogram:\n",
      "\t\thistfunc\n",
      "\t\thistfunc\n",
      "\t\thistnorm\n",
      "\t\thistnorm\n",
      "\tgraph_objs.layout.template._data.Data:\n",
      "\t\thistogram2dcontour\n",
      "\t\thistogram2dcontour\n",
      "\t\thistogram2d\n",
      "\t\thistogram2d\n",
      "\t\thistogram\n",
      "\t\thistogram\n",
      "\tfigure_factory/_distplot:\n",
      "\t\tvalidate_distplot\n",
      "\t\tcreate_distplot\n",
      "\tfigure_factory._distplot._Distplot:\n",
      "\t\t__init__\n",
      "\t\tmake_hist\n"
     ]
    }
   ],
   "source": [
    "pfynd(\"plotly\", \"hist\", False)"
   ]
  },
  {
   "cell_type": "code",
   "execution_count": null,
   "metadata": {},
   "outputs": [],
   "source": []
  },
  {
   "cell_type": "code",
   "execution_count": null,
   "metadata": {},
   "outputs": [],
   "source": []
  },
  {
   "cell_type": "code",
   "execution_count": 306,
   "metadata": {},
   "outputs": [],
   "source": [
    "def get_numb(numb, numbs):\n",
    "    \n",
    "    for n in numbs[::-1]:\n",
    "        if numb < n: return n\n",
    "    \n",
    "    return numbs[-1]\n",
    "\n",
    "def check_meth(dir_to_search, modulename):\n",
    "    \n",
    "    #print(l)\n",
    "    module = modulename.split('.py:')[0]\n",
    "    func = modulename.split('def ')[1].split(\"(\")[0]\n",
    "    #print(func)\n",
    "    location = f\"{dir_to_search}/{module}\"+\".py\"\n",
    "\n",
    "    # Check for all class names and their line numbers\n",
    "    p1 = Popen([\"grep\", \"-n\", \"^class\", location], stdout=PIPE)\n",
    "    output = p1.communicate()[0]                \n",
    "\n",
    "    classdic = [s.split(':class ') for s in output.decode(\"utf-8\").split('\\n') if s != '']\n",
    "    classdic = {int(pp[0]):pp[-1].split(\"(\")[0] for pp in classdic}                    \n",
    "\n",
    "    \n",
    "    #print(classdic)\n",
    "    classkeys = sorted(classdic.keys())\n",
    "\n",
    "    #p1 = Popen([\"find\", dir_to_search, \"-type\", \"f\", \"-name\", \"*.py\"], stdout=PIPE)\n",
    "    #p2 = Popen([\"xargs\", \"grep\", item_to_find], stdin=p1.stdout, stdout=PIPE)\n",
    "    #p3 = Popen([\"grep\", \"def \"], stdin=p2.stdout, stdout=PIPE)    \n",
    "    \n",
    "    p1 = Popen([\"grep\", \"-n\", func, location], stdout=PIPE)\n",
    "    p2 = Popen([\"grep\", \"def\"], stdin=p1.stdout, stdout=PIPE)\n",
    "    output = p2.communicate()[0]                \n",
    "\n",
    "    methdic = [s.split(':')[0] for s in output.decode(\"utf-8\").split('\\n') if func in s]\n",
    "    methdic = {int(pp):func for pp in methdic}\n",
    "    methkeys = sorted(methdic.keys())\n",
    "    #print(methdic)\n",
    "\n",
    "    # Sometimes, these aren't classes, but actually nanmed, nested functions\n",
    "    if classdic != {}:\n",
    "        module += \".\"+classdic[[get_numb(kk, classkeys) for kk in methkeys ][0]]\n",
    "        module = module.replace('/','.')\n",
    "    \n",
    "    return module, func"
   ]
  },
  {
   "cell_type": "code",
   "execution_count": 301,
   "metadata": {},
   "outputs": [
    {
     "name": "stdout",
     "output_type": "stream",
     "text": [
      "_feature_detector\n",
      "{32: 'NEChunkParserTagger', 116: 'NEChunkParser'}\n",
      "{57: '_feature_detector'}\n"
     ]
    },
    {
     "data": {
      "text/plain": [
       "('chunk.named_entity.NEChunkParser', '_feature_detector')"
      ]
     },
     "execution_count": 301,
     "metadata": {},
     "output_type": "execute_result"
    }
   ],
   "source": [
    "check_meth(\"/usr/local/lib/python3.6/dist-packages/nltk\", \"chunk/named_entity.py:    def _feature_detector(self, tokens, index, history):\")"
   ]
  },
  {
   "cell_type": "code",
   "execution_count": 302,
   "metadata": {},
   "outputs": [
    {
     "name": "stdout",
     "output_type": "stream",
     "text": [
      "158:    def histogram(x, y, **kwargs):\r\n",
      "163:    sp = SpectralClustering(n_clusters=2, affinity=histogram, random_state=0)\r\n"
     ]
    }
   ],
   "source": [
    "!grep histogram -n /usr/local/lib/python3.6/dist-packages/sklearn/cluster/tests/test_spectral.py"
   ]
  },
  {
   "cell_type": "code",
   "execution_count": 305,
   "metadata": {},
   "outputs": [
    {
     "name": "stdout",
     "output_type": "stream",
     "text": [
      "histogram\n",
      "{}\n",
      "{158: 'histogram'}\n"
     ]
    },
    {
     "data": {
      "text/plain": [
       "('cluster/tests/test_spectral', 'histogram')"
      ]
     },
     "execution_count": 305,
     "metadata": {},
     "output_type": "execute_result"
    }
   ],
   "source": [
    "check_meth(\"/usr/local/lib/python3.6/dist-packages/sklearn\", \"cluster/tests/test_spectral.py:    def histogram(x, y, **kwargs):\")"
   ]
  },
  {
   "cell_type": "code",
   "execution_count": 249,
   "metadata": {},
   "outputs": [
    {
     "ename": "AttributeError",
     "evalue": "module 'sys' has no attribute 'packages'",
     "output_type": "error",
     "traceback": [
      "\u001b[0;31m---------------------------------------------------------------------------\u001b[0m",
      "\u001b[0;31mAttributeError\u001b[0m                            Traceback (most recent call last)",
      "\u001b[0;32m<ipython-input-249-a4e25eab32f1>\u001b[0m in \u001b[0;36m<module>\u001b[0;34m\u001b[0m\n\u001b[1;32m      1\u001b[0m \u001b[0;32mimport\u001b[0m \u001b[0msys\u001b[0m\u001b[0;34m\u001b[0m\u001b[0;34m\u001b[0m\u001b[0m\n\u001b[0;32m----> 2\u001b[0;31m \u001b[0msys\u001b[0m\u001b[0;34m.\u001b[0m\u001b[0mpackages\u001b[0m\u001b[0;34m\u001b[0m\u001b[0;34m\u001b[0m\u001b[0m\n\u001b[0m",
      "\u001b[0;31mAttributeError\u001b[0m: module 'sys' has no attribute 'packages'"
     ]
    }
   ],
   "source": [
    "import sys\n",
    "sys"
   ]
  },
  {
   "cell_type": "markdown",
   "metadata": {},
   "source": [
    "```\n",
    "/usr/local/lib/python3.6/dist-packages/tensorflow\n",
    "tensorflow\n",
    "\tcontrib/distributions/python/ops/sample_stats:\n",
    "\t\tauto_correlation\n",
    "\tcontrib/metrics/python/ops/metric_ops:\n",
    "\t\tstreaming_pearson_correlation\n",
    "```"
   ]
  },
  {
   "cell_type": "code",
   "execution_count": null,
   "metadata": {},
   "outputs": [],
   "source": []
  },
  {
   "cell_type": "code",
   "execution_count": null,
   "metadata": {},
   "outputs": [],
   "source": []
  },
  {
   "cell_type": "markdown",
   "metadata": {},
   "source": [
    "```\n",
    "/usr/local/lib/python3.6/dist-packages/tensorflow\n",
    "locations:\n",
    "\t contrib/distributions/python/ops/sample_stats.py:def auto_correlation(\n",
    "\tcontrib/metrics/python/ops/metric_ops.py:def streaming_pearson_correlation(predictions,\n",
    "1. d2c /usr/local/lib/python3.6/dist-packages/tensorflow l contrib/distributions/python/ops/sample_stats.py:def auto_correlation(\n",
    "2. d2c /usr/local/lib/python3.6/dist-packages/tensorflow l contrib/distributions/python/ops/sample_stats.py:def auto_correlation(\n",
    "1. d2c /usr/local/lib/python3.6/dist-packages/tensorflow l contrib/metrics/python/ops/metric_ops.py:def streaming_pearson_correlation(predictions,\n",
    "2. d2c /usr/local/lib/python3.6/dist-packages/tensorflow l contrib/metrics/python/ops/metric_ops.py:def streaming_pearson_correlation(predictions,\n",
    "tensorflow\n",
    "\tcontrib/distributions/python/ops/sample_stats:\n",
    "\t\tauto_correlation\n",
    "\tcontrib/metrics/python/ops/metric_ops:\n",
    "\t\tstreaming_pearson_correlation\n",
    "```        "
   ]
  },
  {
   "cell_type": "code",
   "execution_count": null,
   "metadata": {},
   "outputs": [],
   "source": [
    "2. d2c /usr/local/lib/python3.6/dist-packages/tensorflow l contrib/distributions/python/ops/sample_stats.py:def auto_correlation(\n",
    "\n",
    "2. d2c /usr/local/lib/python3.6/dist-packages/tensorflow l contrib/distributions/python/ops/sample_stats.py:def auto_correlation(\n"
   ]
  },
  {
   "cell_type": "markdown",
   "metadata": {},
   "source": [
    "```\n",
    "locations:\n",
    "\t spatial/tests/test_distance.py:    def test_pdist_correlation_random(self):\n",
    "\tspatial/tests/test_distance.py:    def test_pdist_correlation_random_float32(self):\n",
    "\tspatial/tests/test_distance.py:    def test_pdist_correlation_random_nonC(self):\n",
    "\tspatial/tests/test_distance.py:    def test_pdist_correlation_iris(self):\n",
    "\tspatial/tests/test_distance.py:    def test_pdist_correlation_iris_float32(self):\n",
    "\tspatial/tests/test_distance.py:    def test_pdist_correlation_iris_nonC(self):\n",
    "\tspatial/tests/test_distance.py:    def test_correlation(self):\n",
    "\tspatial/distance.py:def _correlation_cdist_wrap(XA, XB, dm, **kwargs):\n",
    "\tspatial/distance.py:def _correlation_pdist_wrap(X, dm, **kwargs):\n",
    "\tspatial/distance.py:def correlation(u, v, w=None, centered=True):\n",
    "scipy\n",
    "\tspatial.tests.test_distance.TestIsValidY:\n",
    "\t\ttest_pdist_correlation_random\n",
    "\t\ttest_pdist_correlation_random_float32\n",
    "\t\ttest_pdist_correlation_random_nonC\n",
    "\t\ttest_pdist_correlation_iris\n",
    "\t\ttest_pdist_correlation_iris_float32\n",
    "\t\ttest_pdist_correlation_iris_nonC\n",
    "\t\ttest_correlation\n",
    "\tspatial/distance:\n",
    "\t\t_correlation_cdist_wrap\n",
    "\t\t_correlation_pdist_wrap\n",
    "\t\tcorrelation\n",
    "```"
   ]
  },
  {
   "cell_type": "code",
   "execution_count": null,
   "metadata": {},
   "outputs": [],
   "source": [
    "YES: /usr/local/lib/python3.6/dist-packages/scipy l spatial/tests/test_distance.py:    def test_pdist_correlation_random(self):\n",
    "BAD: /usr/local/lib/python3.6/dist-packages l spatial/tests/test_distance.py:    def test_pdist_correlation_random(self):"
   ]
  },
  {
   "cell_type": "code",
   "execution_count": 117,
   "metadata": {},
   "outputs": [],
   "source": [
    "l = 'spatial/tests/test_distance.py:    def test_pdist_correlation_random(self):'"
   ]
  },
  {
   "cell_type": "code",
   "execution_count": 118,
   "metadata": {},
   "outputs": [],
   "source": [
    "dirto = '/usr/local/lib/python3.6/dist-packages/scipy'"
   ]
  },
  {
   "cell_type": "code",
   "execution_count": 109,
   "metadata": {},
   "outputs": [],
   "source": [
    "pack_name = l.replace(dirto+'/','').split('/')[0]\n",
    "dirto = '/'.join([dirto,ll])"
   ]
  },
  {
   "cell_type": "code",
   "execution_count": 120,
   "metadata": {},
   "outputs": [
    {
     "name": "stdout",
     "output_type": "stream",
     "text": [
      "spatial.tests.test_distance.TestIsValidY test_pdist_correlation_random\n"
     ]
    }
   ],
   "source": [
    "print(module, function)"
   ]
  },
  {
   "cell_type": "code",
   "execution_count": 49,
   "metadata": {},
   "outputs": [
    {
     "data": {
      "text/plain": [
       "'junko'"
      ]
     },
     "execution_count": 49,
     "metadata": {},
     "output_type": "execute_result"
    }
   ],
   "source": [
    "special_split('/usr/local/lib/python3.6/dist-packages','/usr/local/lib/python3.6/dist-packages/junk1/junko')"
   ]
  },
  {
   "cell_type": "code",
   "execution_count": 27,
   "metadata": {},
   "outputs": [
    {
     "name": "stdout",
     "output_type": "stream",
     "text": [
      "locations:\n",
      "\t axes/_base.py:    def get_xlim(self):\n",
      "\taxes/_base.py:    def set_xlim(self, left=None, right=None, emit=True, auto=False,\n",
      "\tpyplot.py:def xlim(*args, **kwargs):\n",
      "\ttests/test_skew.py:    def lower_xlim(self):\n",
      "\ttests/test_skew.py:    def upper_xlim(self):\n",
      "\tprojections/geo.py:    def set_xlim(self, *args, **kwargs):\n",
      "matplotlib\n",
      "\taxes._base._AxesBase:\n",
      "\t\tget_xlim\n",
      "\t\tset_xlim\n",
      "\tpyplot:\n",
      "\t\txlim\n",
      "\ttests.test_skew.SkewXAxes:\n",
      "\t\tlower_xlim\n",
      "\t\tupper_xlim\n",
      "\tprojections.geo.LambertAxes:\n",
      "\t\tset_xlim\n"
     ]
    }
   ],
   "source": [
    "pfynd(\"matplotlib\", \"xlim\", False)"
   ]
  },
  {
   "cell_type": "code",
   "execution_count": null,
   "metadata": {
    "code_folding": [
     0
    ]
   },
   "outputs": [],
   "source": [
    "def pfynd(package_to_check, item_to_find, ismodule=False):\n",
    "    \n",
    "    pyvers = \".\".join(platform.python_version_tuple()[:2])\n",
    "    \n",
    "    paths = [p for p in sys.path if check_path(p)]\n",
    "    \n",
    "    #print(paths)\n",
    "    \n",
    "    not_found = []\n",
    "    \n",
    "    for path in paths:\n",
    "        \n",
    "        cmds = [\"find\", path, \"-type\", \"d\"]\n",
    "        \n",
    "        if (package_to_check != \"\") | (package_to_check != \"*\"):\n",
    "            cmds.extend([\"-name\", package_to_check])\n",
    "        \n",
    "        p1 = Popen(cmds, stdout=PIPE)\n",
    "        p2 = Popen([\"grep\", f\"python{pyvers}\"], stdin=p1.stdout, stdout=PIPE)\n",
    "        p1.stdout.close()  # Allow p1 to receive a SIGPIPE if p2 exits.\n",
    "        output = p2.communicate()[0]\n",
    "\n",
    "        dirs_to_search = [s for s in output.decode(\"utf-8\").split('\\n') if s != '']\n",
    "\n",
    "        if dirs_to_search == []:\n",
    "            not_found.append(f\"\\n\\t\\'{package_to_check}\\' not found in {path}\\n\")\n",
    "            continue\n",
    "\n",
    "        #print(dirs_to_search)\n",
    "        \n",
    "        dir_to_search = dirs_to_search[0]\n",
    "\n",
    "        #print(dir_to_search)\n",
    "\n",
    "        if ismodule:\n",
    "            p1 = Popen([\"find\", dir_to_search, \"-type\", \"d\", \"-name\", item_to_find], stdout=PIPE)\n",
    "            #p3 = Popen([\"grep\", \"def \"], stdin=p2.stdout, stdout=PIPE)\n",
    "            #p1.stdout.close()  # Allow p1 to receive a SIGPIPE if p2 exits.\n",
    "            output = p1.communicate()[0]\n",
    "            \n",
    "            if (package_to_check != \"\") & (package_to_check != \"*\"):\n",
    "                locations = [s.split(\"/\"+package_to_check+\"/\")[1] for s in output.decode(\"utf-8\").split('\\n') if s != '']\n",
    "            else:\n",
    "                locations = [s for s in output.decode(\"utf-8\").split('\\n') if s != '']\n",
    "                \n",
    "            if len(locations) != 0:\n",
    "                \n",
    "                print(f\"{package_to_check}\")\n",
    "\n",
    "                for l in locations:\n",
    "\n",
    "                    print(f\"\\t{l}\")\n",
    "\n",
    "        else:\n",
    "            p1 = Popen([\"find\", dir_to_search, \"-type\", \"f\", \"-name\", \"*.py\"], stdout=PIPE)\n",
    "            p2 = Popen([\"xargs\", \"grep\", item_to_find], stdin=p1.stdout, stdout=PIPE)\n",
    "            p3 = Popen([\"grep\", \"def \"], stdin=p2.stdout, stdout=PIPE)\n",
    "            p1.stdout.close()  # Allow p1 to receive a SIGPIPE if p2 exits.\n",
    "            p2.stdout.close()  # Allow p1 to receive a SIGPIPE if p2 exits.\n",
    "            output = p3.communicate()[0]\n",
    "            \n",
    "            #print(output)\n",
    "            print(dir_to_search)\n",
    "            if (package_to_check != \"\") & (package_to_check != \"*\"):\n",
    "                locations = [s.split(\"/\"+package_to_check+\"/\")[1] for s in output.decode(\"utf-8\").split('\\n') if s != '']\n",
    "            else:\n",
    "                locations = [s for s in output.decode(\"utf-8\").split('\\n') if s != '']\n",
    "                \n",
    "            \n",
    "\n",
    "            print(\"locations:\\n\\t\", '\\n\\t'.join(locations))\n",
    "\n",
    "            dc = {}\n",
    "            for l in locations:\n",
    "                \n",
    "                pack_name = l.replace(dir_to_search+'/','').split('/')[0]\n",
    "                dir_to_search = '/'.join([dir_to_search,pack_name])\n",
    "                \n",
    "                #check if its a method, and then to which class it belongs\n",
    "                if ('    ' in l) | ('\\t' in l): \n",
    "                    \n",
    "                    module, function = check_meth(dir_to_search, l)\n",
    "                    \n",
    "                    #print(module)\n",
    "                    #try:\n",
    "                    #    modpath = str_to_obj(package_to_check+'.'+module)\n",
    "                    #    print(modpath)\n",
    "                    #    print(isinstance(modpath, types.ClassType), hasattr(modpath, function))\n",
    "                    #except:\n",
    "                    #    pass\n",
    "                    #         \n",
    "                    \n",
    "                else:\n",
    "                    module = l.split('.py:')[0]\n",
    "                    function = l.split('def ')[1].split(\"(\")[0]                    \n",
    "                \n",
    "                if module in dc.keys():\n",
    "                    dc[module].append(function)\n",
    "                else:\n",
    "                    dc[module]= [function]\n",
    "\n",
    "            if len(dc.keys()) != 0:\n",
    "\n",
    "                print(f\"{package_to_check}\")\n",
    "\n",
    "                for k,v in dc.items():\n",
    "\n",
    "                    print(f\"\\t{k}:\")\n",
    "\n",
    "                    for vv in v:\n",
    "                        print(f\"\\t\\t{vv}\")\n",
    "    \n",
    "    show_fail = False\n",
    "    if show_fail:\n",
    "        print(not_found)\n",
    "        \n",
    "    return None"
   ]
  }
 ],
 "metadata": {
  "kernelspec": {
   "display_name": "Python 3",
   "language": "python",
   "name": "python3"
  },
  "language_info": {
   "codemirror_mode": {
    "name": "ipython",
    "version": 3
   },
   "file_extension": ".py",
   "mimetype": "text/x-python",
   "name": "python",
   "nbconvert_exporter": "python",
   "pygments_lexer": "ipython3",
   "version": "3.6.9"
  },
  "toc": {
   "nav_menu": {},
   "number_sections": true,
   "sideBar": true,
   "skip_h1_title": false,
   "title_cell": "Table of Contents",
   "title_sidebar": "Contents",
   "toc_cell": false,
   "toc_position": {},
   "toc_section_display": true,
   "toc_window_display": false
  }
 },
 "nbformat": 4,
 "nbformat_minor": 2
}
