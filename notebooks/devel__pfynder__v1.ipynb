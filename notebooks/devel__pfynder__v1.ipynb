{
 "cells": [
  {
   "cell_type": "markdown",
   "metadata": {},
   "source": [
    "# `pfynder` devel: v1\n",
    "\n",
    "14.03.2021"
   ]
  },
  {
   "cell_type": "markdown",
   "metadata": {},
   "source": [
    "**`pfynder`**\n",
    "\n",
    "0. inputs: module name and function name to search for\n",
    "1. find local of current python; effectively want `/usr/local/lib/pythonX.X/` where \"pythonX.X\" is the current version of the notebook\n",
    "2. find the correct dir with the package's name, _ie_ \"sklearn\"\n",
    "3. search through all `.py`-scripts using grep to find the function name\n",
    "    - **Note** it could be in multiple modules, , filter to get those with \"def\"\n",
    "4. output the results"
   ]
  },
  {
   "cell_type": "code",
   "execution_count": 1,
   "metadata": {},
   "outputs": [
    {
     "name": "stdout",
     "output_type": "stream",
     "text": [
      "/usr/local/lib/python3.6/dist-packages/sklearn\r\n"
     ]
    }
   ],
   "source": [
    "!find /usr/local/lib/ -name \"*sklearn\" -type d | grep -e \"python3.6\""
   ]
  },
  {
   "cell_type": "code",
   "execution_count": 2,
   "metadata": {},
   "outputs": [
    {
     "name": "stdout",
     "output_type": "stream",
     "text": [
      "find: /usr/bin/find /usr/share/man/man1/find.1.gz /usr/share/info/find.info.gz\r\n"
     ]
    }
   ],
   "source": [
    "!whereis find"
   ]
  },
  {
   "cell_type": "markdown",
   "metadata": {},
   "source": [
    "! ls /bin/find"
   ]
  },
  {
   "cell_type": "code",
   "execution_count": 3,
   "metadata": {},
   "outputs": [],
   "source": [
    "import os"
   ]
  },
  {
   "cell_type": "code",
   "execution_count": 4,
   "metadata": {},
   "outputs": [],
   "source": [
    "from subprocess import *"
   ]
  },
  {
   "cell_type": "code",
   "execution_count": 5,
   "metadata": {},
   "outputs": [],
   "source": [
    "import platform"
   ]
  },
  {
   "cell_type": "markdown",
   "metadata": {},
   "source": [
    "Get the current Python version (should be the kernel currently being used)"
   ]
  },
  {
   "cell_type": "code",
   "execution_count": 6,
   "metadata": {},
   "outputs": [
    {
     "name": "stdout",
     "output_type": "stream",
     "text": [
      "3.6.9\n",
      "3.6\n"
     ]
    }
   ],
   "source": [
    "print(platform.python_version())\n",
    "print(\".\".join(platform.python_version_tuple()[:2]))"
   ]
  },
  {
   "cell_type": "code",
   "execution_count": 7,
   "metadata": {},
   "outputs": [
    {
     "name": "stdout",
     "output_type": "stream",
     "text": [
      "['/usr/lib/python36.zip', '/usr/lib/python3.6', '/usr/lib/python3.6/lib-dynload', '', '/home/sandm/.local/lib/python3.6/site-packages', '/usr/local/lib/python3.6/dist-packages', '/usr/lib/python3/dist-packages', '/home/sandm/.local/lib/python3.6/site-packages/IPython/extensions', '/home/sandm/.ipython']\n"
     ]
    }
   ],
   "source": [
    "import sys\n",
    "print(sys.path)"
   ]
  },
  {
   "cell_type": "code",
   "execution_count": 8,
   "metadata": {},
   "outputs": [],
   "source": [
    "def check_path(path):\n",
    "    return (path != \"\") & \\\n",
    "        ((\".zip\" not in path) & \\\n",
    "         (\".ipython\" not in path) & \\\n",
    "         (\"extensions\" not in path)) & \\\n",
    "         ('packages' in path)"
   ]
  },
  {
   "cell_type": "code",
   "execution_count": 9,
   "metadata": {},
   "outputs": [
    {
     "name": "stdout",
     "output_type": "stream",
     "text": [
      "Paths to check\n",
      "\t\tFalse: /usr/lib/python36.zip\n",
      "\t\tFalse: /usr/lib/python3.6\n",
      "\t\tFalse: /usr/lib/python3.6/lib-dynload\n",
      "\t\tFalse: \n",
      "\tTrue : /home/sandm/.local/lib/python3.6/site-packages\n",
      "\tTrue : /usr/local/lib/python3.6/dist-packages\n",
      "\tTrue : /usr/lib/python3/dist-packages\n",
      "\t\tFalse: /home/sandm/.local/lib/python3.6/site-packages/IPython/extensions\n",
      "\t\tFalse: /home/sandm/.ipython\n"
     ]
    }
   ],
   "source": [
    "print(\"Paths to check\")\n",
    "checks = lambda p: f'\\t{str(check_path(p)):5s}:' if check_path(p) else f'\\t\\t{str(check_path(p)):5s}:'\n",
    "for p in sys.path:\n",
    "    print(checks(p),p)"
   ]
  },
  {
   "cell_type": "code",
   "execution_count": 10,
   "metadata": {},
   "outputs": [
    {
     "name": "stdout",
     "output_type": "stream",
     "text": [
      "/usr/local/lib/python3.6/dist-packages/matplotlib\r\n"
     ]
    }
   ],
   "source": [
    "!find /usr/local/lib/python3.6/dist-packages -name matplotlib -type d"
   ]
  },
  {
   "cell_type": "code",
   "execution_count": 11,
   "metadata": {},
   "outputs": [],
   "source": [
    "def get_numb(numb, numbs):\n",
    "    \n",
    "    for n in numbs[::-1]:\n",
    "        if numb < n: return n\n",
    "    \n",
    "    return numbs[-1]\n",
    "\n",
    "def check_meth(dir_to_search, modulename):\n",
    "    \n",
    "    #print(l)\n",
    "    module = modulename.split('.py:')[0]\n",
    "    func = modulename.split('def ')[1].split(\"(\")[0]\n",
    "\n",
    "    location = f\"{dir_to_search}/{module}\"+\".py\"\n",
    "\n",
    "    # Check for all class names and their line numbers\n",
    "    p1 = Popen([\"grep\", \"-n\", \"^class\", location], stdout=PIPE)\n",
    "    output = p1.communicate()[0]                \n",
    "\n",
    "    classdic = [s.split(':class ') for s in output.decode(\"utf-8\").split('\\n') if s != '']\n",
    "    classdic = {int(pp[0]):pp[-1].split(\"(\")[0] for pp in classdic}                    \n",
    "\n",
    "    #print(classdic)\n",
    "    classkeys = sorted(classdic.keys())\n",
    "\n",
    "    p1 = Popen([\"grep\", \"-n\", \"^    def\", location], stdout=PIPE)\n",
    "    output = p1.communicate()[0]                \n",
    "\n",
    "    methdic = [s.split(':    def ') for s in output.decode(\"utf-8\").split('\\n') if func in s]\n",
    "    methdic = {int(pp[0]):pp[-1].split(\"(\")[0] for pp in methdic}\n",
    "    methkeys = sorted(methdic.keys())\n",
    "    #print(methdic)\n",
    "\n",
    "    module += \".\"+classdic[[get_numb(kk, classkeys) for kk in methkeys ][0]]\n",
    "    module = module.replace('/','.')\n",
    "    \n",
    "    return module, func"
   ]
  },
  {
   "cell_type": "code",
   "execution_count": 15,
   "metadata": {
    "code_folding": []
   },
   "outputs": [],
   "source": [
    "def pfynd(package_to_check, item_to_find, ismodule=False):\n",
    "    \n",
    "    pyvers = \".\".join(platform.python_version_tuple()[:2])\n",
    "    \n",
    "    paths = [p for p in sys.path if check_path(p)]\n",
    "    \n",
    "    #print(paths)\n",
    "    \n",
    "    not_found = []\n",
    "    \n",
    "    for path in paths:\n",
    "        p1 = Popen([\"find\", path, \"-type\", \"d\", \"-name\", package_to_check], stdout=PIPE)\n",
    "        p2 = Popen([\"grep\", f\"python{pyvers}\"], stdin=p1.stdout, stdout=PIPE)\n",
    "        p1.stdout.close()  # Allow p1 to receive a SIGPIPE if p2 exits.\n",
    "        output = p2.communicate()[0]\n",
    "\n",
    "        dirs_to_search = [s for s in output.decode(\"utf-8\").split('\\n') if s != '']\n",
    "\n",
    "        if dirs_to_search == []:\n",
    "            not_found.append(f\"\\n\\t\\'{package_to_check}\\' not found in {path}\\n\")\n",
    "            continue\n",
    "\n",
    "        #print(dirs_to_search)\n",
    "        \n",
    "        dir_to_search = dirs_to_search[0]\n",
    "\n",
    "        #print(dir_to_search)\n",
    "\n",
    "        if ismodule:\n",
    "            p1 = Popen([\"find\", dir_to_search, \"-type\", \"d\", \"-name\", item_to_find], stdout=PIPE)\n",
    "            #p3 = Popen([\"grep\", \"def \"], stdin=p2.stdout, stdout=PIPE)\n",
    "            #p1.stdout.close()  # Allow p1 to receive a SIGPIPE if p2 exits.\n",
    "            output = p1.communicate()[0]\n",
    "            \n",
    "            locations = [s.split(\"/\"+package_to_check+\"/\")[1] for s in output.decode(\"utf-8\").split('\\n') if s != '']\n",
    "            \n",
    "            if len(locations) != 0:\n",
    "                \n",
    "                print(f\"{package_to_check}\")\n",
    "\n",
    "                for l in locations:\n",
    "\n",
    "                    print(f\"\\t{l}\")\n",
    "\n",
    "        else:\n",
    "            p1 = Popen([\"find\", dir_to_search, \"-type\", \"f\", \"-name\", \"*.py\"], stdout=PIPE)\n",
    "            p2 = Popen([\"xargs\", \"grep\", item_to_find], stdin=p1.stdout, stdout=PIPE)\n",
    "            p3 = Popen([\"grep\", \"def \"], stdin=p2.stdout, stdout=PIPE)\n",
    "            p1.stdout.close()  # Allow p1 to receive a SIGPIPE if p2 exits.\n",
    "            p2.stdout.close()  # Allow p1 to receive a SIGPIPE if p2 exits.\n",
    "            output = p3.communicate()[0]\n",
    "            \n",
    "            #print(output)\n",
    "\n",
    "            locations = [s.split(\"/\"+package_to_check+\"/\")[1] for s in output.decode(\"utf-8\").split('\\n') if s != '']\n",
    "\n",
    "            #print(\"locations:\\n\\t\", '\\n\\t'.join(locations))\n",
    "\n",
    "            dc = {}\n",
    "            for l in locations:\n",
    "                \n",
    "                #check if its a method, and then to which class it belongs\n",
    "                if ('    ' in l) | ('\\t' in l): \n",
    "                    \n",
    "                    module, function = check_meth(dir_to_search, l)\n",
    "                    \n",
    "                    #print(module)\n",
    "                    #try:\n",
    "                    #    modpath = str_to_obj(package_to_check+'.'+module)\n",
    "                    #    print(modpath)\n",
    "                    #    print(isinstance(modpath, types.ClassType), hasattr(modpath, function))\n",
    "                    #except:\n",
    "                    #    pass\n",
    "                    #         \n",
    "                    \n",
    "                else:\n",
    "                    module = l.split('.py:')[0]\n",
    "                    function = l.split('def ')[1].split(\"(\")[0]                    \n",
    "                \n",
    "                if module in dc.keys():\n",
    "                    dc[module].append(function)\n",
    "                else:\n",
    "                    dc[module]= [function]\n",
    "\n",
    "            if len(dc.keys()) != 0:\n",
    "\n",
    "                print(f\"{package_to_check}\")\n",
    "\n",
    "                for k,v in dc.items():\n",
    "\n",
    "                    print(f\"\\t{k}:\")\n",
    "\n",
    "                    for vv in v:\n",
    "                        print(f\"\\t\\t{vv}\")\n",
    "    \n",
    "    show_fail = False\n",
    "    if show_fail:\n",
    "        print(not_found)\n",
    "        \n",
    "    return None"
   ]
  },
  {
   "cell_type": "code",
   "execution_count": 16,
   "metadata": {},
   "outputs": [
    {
     "name": "stdout",
     "output_type": "stream",
     "text": [
      "matplotlib\n",
      "\taxes._base._AxesBase:\n",
      "\t\tget_xlim\n",
      "\t\tset_xlim\n",
      "\tpyplot:\n",
      "\t\txlim\n",
      "\ttests.test_skew.SkewXAxes:\n",
      "\t\tlower_xlim\n",
      "\t\tupper_xlim\n",
      "\tprojections.geo.LambertAxes:\n",
      "\t\tset_xlim\n"
     ]
    }
   ],
   "source": [
    "pfynd(\"matplotlib\", \"xlim\", False)"
   ]
  }
 ],
 "metadata": {
  "kernelspec": {
   "display_name": "Python 3",
   "language": "python",
   "name": "python3"
  },
  "language_info": {
   "codemirror_mode": {
    "name": "ipython",
    "version": 3
   },
   "file_extension": ".py",
   "mimetype": "text/x-python",
   "name": "python",
   "nbconvert_exporter": "python",
   "pygments_lexer": "ipython3",
   "version": "3.6.9"
  },
  "toc": {
   "nav_menu": {},
   "number_sections": true,
   "sideBar": true,
   "skip_h1_title": false,
   "title_cell": "Table of Contents",
   "title_sidebar": "Contents",
   "toc_cell": false,
   "toc_position": {},
   "toc_section_display": true,
   "toc_window_display": false
  }
 },
 "nbformat": 4,
 "nbformat_minor": 2
}
